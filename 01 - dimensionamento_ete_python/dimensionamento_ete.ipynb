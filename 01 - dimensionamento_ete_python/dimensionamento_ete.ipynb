{
 "cells": [
  {
   "cell_type": "code",
   "execution_count": 10,
   "metadata": {},
   "outputs": [
    {
     "name": "stdout",
     "output_type": "stream",
     "text": [
      "Digite o ano t[0]: 1980\n",
      "Digite a população p[0]: 10585\n",
      "Digite o ano t[1]: 1990\n",
      "Digite a população p[1]: 23150\n",
      "Digite o ano t[2]: 2000\n",
      "Digite a população p[2]: 40000\n",
      "População de previsão: 2005\n",
      "No ano 2005.0 a população foi de 47353.75.\n",
      "\n",
      "0\n",
      "No ano 1980.0 a população foi de 47353.75.\n",
      "\n",
      "1\n",
      "No ano 1990.0 a população foi de 47353.75.\n",
      "\n",
      "2\n",
      "No ano 2000.0 a população foi de 47353.75.\n",
      "\n",
      "3\n",
      "No ano 2005.0 a população foi de 47353.75.\n",
      "\n",
      "4\n"
     ]
    },
    {
     "ename": "IndexError",
     "evalue": "list index out of range",
     "output_type": "error",
     "traceback": [
      "\u001b[1;31m---------------------------------------------------------------------------\u001b[0m",
      "\u001b[1;31mIndexError\u001b[0m                                Traceback (most recent call last)",
      "\u001b[1;32m<ipython-input-10-b2dc8035d7ee>\u001b[0m in \u001b[0;36m<module>\u001b[1;34m\u001b[0m\n\u001b[0;32m     16\u001b[0m \u001b[1;33m\u001b[0m\u001b[0m\n\u001b[0;32m     17\u001b[0m \u001b[1;32mwhile\u001b[0m \u001b[0mt2\u001b[0m \u001b[1;33m<=\u001b[0m \u001b[0mtp\u001b[0m\u001b[1;33m:\u001b[0m\u001b[1;33m\u001b[0m\u001b[1;33m\u001b[0m\u001b[0m\n\u001b[1;32m---> 18\u001b[1;33m     \u001b[0mprint\u001b[0m\u001b[1;33m(\u001b[0m\u001b[1;34mf'No ano {t[c]} a população foi de {pt}.\\n'\u001b[0m\u001b[1;33m)\u001b[0m\u001b[1;33m\u001b[0m\u001b[1;33m\u001b[0m\u001b[0m\n\u001b[0m\u001b[0;32m     19\u001b[0m     \u001b[0mt2\u001b[0m \u001b[1;33m+=\u001b[0m \u001b[1;36m1\u001b[0m\u001b[1;33m\u001b[0m\u001b[1;33m\u001b[0m\u001b[0m\n\u001b[0;32m     20\u001b[0m     \u001b[0mc\u001b[0m \u001b[1;33m+=\u001b[0m \u001b[1;36m1\u001b[0m\u001b[1;33m\u001b[0m\u001b[1;33m\u001b[0m\u001b[0m\n",
      "\u001b[1;31mIndexError\u001b[0m: list index out of range"
     ]
    }
   ],
   "source": [
    "#Cálculo para previsão da população local\n",
    "t = []\n",
    "p = []\n",
    "c = -1\n",
    "\n",
    "for i in range(0, 3):\n",
    "    t.append(float(input(f'Digite o ano t[{i}]: '))) \n",
    "    p.append(float(input(f'Digite a população p[{i}]: ')))\n",
    "\n",
    "tp = float(input('População de previsão: '))    \n",
    "\n",
    "ka = (p[2] - p[0]) / (t[2] - t[0])\n",
    "pt = p[0] + ka*(tp - t[0])\n",
    "t.append(tp)\n",
    "t2 = t[2]\n",
    "\n",
    "while t2 <= tp:\n",
    "    print(f'No ano {t[c]} a população foi de {pt}.\\n')\n",
    "    t2 += 1\n",
    "    c += 1\n",
    "    print(c)"
   ]
  },
  {
   "cell_type": "code",
   "execution_count": null,
   "metadata": {},
   "outputs": [],
   "source": []
  }
 ],
 "metadata": {
  "kernelspec": {
   "display_name": "Python 3",
   "language": "python",
   "name": "python3"
  },
  "language_info": {
   "codemirror_mode": {
    "name": "ipython",
    "version": 3
   },
   "file_extension": ".py",
   "mimetype": "text/x-python",
   "name": "python",
   "nbconvert_exporter": "python",
   "pygments_lexer": "ipython3",
   "version": "3.8.5"
  }
 },
 "nbformat": 4,
 "nbformat_minor": 4
}
