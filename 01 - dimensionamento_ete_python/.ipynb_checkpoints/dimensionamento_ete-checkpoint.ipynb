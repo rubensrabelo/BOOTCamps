{
 "cells": [
  {
   "cell_type": "code",
   "execution_count": null,
   "metadata": {},
   "outputs": [],
   "source": [
    "#Cálculo para previsão da população local\n",
    "t = []\n",
    "p = []\n",
    "c = 0\n",
    "\n",
    "for i in range(0, 3):\n",
    "    t.append(float(input(f'Digite o ano t[i]: '))) \n",
    "    p.append(float(input(f'Digite a população p[i]: '))) \n",
    "\n",
    "tp = float(input('População de previsão: '))    \n",
    "\n",
    "ka = (p[2] - p[0]) / (t[2] - t[0])\n",
    "pt = p[0] + ka*(tp - t[0])\n",
    "t2 = t[2]\n",
    "\n",
    "while t2 <= tp:\n",
    "    print(f'No ano {t[c]} a população foi de {c}.\\n')\n",
    "    t[2] += 1\n",
    "    c += 1"
   ]
  }
 ],
 "metadata": {
  "kernelspec": {
   "display_name": "Python 3",
   "language": "python",
   "name": "python3"
  },
  "language_info": {
   "codemirror_mode": {
    "name": "ipython",
    "version": 3
   },
   "file_extension": ".py",
   "mimetype": "text/x-python",
   "name": "python",
   "nbconvert_exporter": "python",
   "pygments_lexer": "ipython3",
   "version": "3.8.5"
  }
 },
 "nbformat": 4,
 "nbformat_minor": 4
}
