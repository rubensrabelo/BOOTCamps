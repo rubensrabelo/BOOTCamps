{
 "cells": [
  {
   "cell_type": "code",
   "execution_count": 9,
   "metadata": {},
   "outputs": [
    {
     "name": "stdout",
     "output_type": "stream",
     "text": [
      "Digite o ano t[0]: 1980\n",
      "Digite a população p[0]: 2\n",
      "Digite o ano t[1]: 1990\n",
      "Digite a população p[1]: 5\n",
      "Digite o ano t[2]: 2000\n",
      "Digite a população p[2]: 5\n",
      "Digite o ano de previsão: 2005\n",
      "No ano 2005 a população prevista é 6.\n",
      "[1980.0, 1990.0, 2000.0, 2005.0, 2006.0, 2007.0]\n"
     ]
    }
   ],
   "source": [
    "#Referência: Marcos Von Sperling (2007). Wastewater Characteristics, Treatment and Disposal. Volume 01.\n",
    "\n",
    "#1ª Cálculo da população prevista em 20 anos\n",
    "\n",
    "tempo = []\n",
    "pop = []\n",
    "\n",
    "for i in range(0, 3):\n",
    "    t = float(input(f'Digite o ano t[{i}]: '))\n",
    "    p = float(input(f'Digite a população p[{i}]: '))\n",
    "    tempo.append(t)\n",
    "    pop.append(p)\n",
    "\n",
    "t_prev = float(input('Digite o ano de previsão: '))\n",
    "\n",
    "tempo.append(t_prev)\n",
    "\n",
    "ka = (pop[2] - pop[0])/(tempo[2] - tempo[0])\n",
    "pt = pop[0] + ka*(t_prev - tempo[0])\n",
    "\n",
    "print(f'No ano {t_prev:.0f} a população prevista é {pt:.0f}.')\n",
    "\n",
    "for c in (1, 20):\n",
    "    t_prev += 1\n",
    "    tempo.append(t_prev)\n",
    "print(tempo)"
   ]
  }
 ],
 "metadata": {
  "kernelspec": {
   "display_name": "Python 3",
   "language": "python",
   "name": "python3"
  },
  "language_info": {
   "codemirror_mode": {
    "name": "ipython",
    "version": 3
   },
   "file_extension": ".py",
   "mimetype": "text/x-python",
   "name": "python",
   "nbconvert_exporter": "python",
   "pygments_lexer": "ipython3",
   "version": "3.8.5"
  }
 },
 "nbformat": 4,
 "nbformat_minor": 4
}
